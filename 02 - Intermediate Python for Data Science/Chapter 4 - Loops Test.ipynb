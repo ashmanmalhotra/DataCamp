{
 "cells": [
  {
   "cell_type": "markdown",
   "metadata": {},
   "source": [
    "# Chaper 4 - Loops"
   ]
  },
  {
   "cell_type": "markdown",
   "metadata": {},
   "source": [
    "#### while: warming up\n",
    "<pre>\n",
    "The while loop is like a repeated if statement. The code is executed over and over again, as long as the condition is True. Have another look at its recipe.\n",
    "\n",
    "while condition :\n",
    "    expression\n",
    "Can you tell how many printouts the following while loop will do?\n",
    "\n",
    "x = 1\n",
    "while x < 4 :\n",
    "    print(x)\n",
    "    x = x + 1\n",
    "</pre>\n",
    "\n",
    "<pre>\n",
    "\n",
    "<b>Instructions:</b>\n",
    "Possible Answers:\n",
    "1.  0\n",
    "2.  1\n",
    "3.  3 [Correct Answer]\n",
    "4.  4\n",
    "</pre>"
   ]
  },
  {
   "cell_type": "markdown",
   "metadata": {},
   "source": [
    "#### Basic while loop\n",
    "<pre>\n",
    "Below you can find the example from the video where the error variable, initially equal to 50.0, is divided by 4 and printed out on every run:\n",
    "\n",
    "error = 50.0\n",
    "while error > 1 :\n",
    "    error = error / 4\n",
    "    print(error)\n",
    "    \n",
    "This example will come in handy, because it's time to build a while loop yourself! We're going to code a while loop that implements a very basic control system for a inverted pendulum. If there's an offset from standing perfectly straight, the while loop will incrementally fix this offset.\n",
    "\n",
    "</pre>\n",
    "\n",
    "<pre>\n",
    "\n",
    "<b>Instructions:</b>\n",
    "- Create the variable offset with an initial value of 8.\n",
    "- Code a while loop that keeps running as long as offset is not equal to 0. Inside the while loop:\n",
    "- Print out the sentence \"correcting...\".\n",
    "- Next, decrease the value of offset by 1. You can do this with \n",
    "        offset = offset - 1.\n",
    "- Finally, print out offset so you can see how it changes.\n",
    "\n",
    "</pre>"
   ]
  },
  {
   "cell_type": "code",
   "execution_count": 1,
   "metadata": {},
   "outputs": [
    {
     "name": "stdout",
     "output_type": "stream",
     "text": [
      "Correcting...\n",
      "7\n",
      "Correcting...\n",
      "6\n",
      "Correcting...\n",
      "5\n",
      "Correcting...\n",
      "4\n",
      "Correcting...\n",
      "3\n",
      "Correcting...\n",
      "2\n",
      "Correcting...\n",
      "1\n",
      "Correcting...\n",
      "0\n"
     ]
    }
   ],
   "source": [
    "# Initialize offset\n",
    "offset = 8\n",
    "\n",
    "# Code the while loop\n",
    "while offset != 0:\n",
    "    print(\"Correcting...\")\n",
    "    offset = offset - 1\n",
    "    print(offset)"
   ]
  },
  {
   "cell_type": "markdown",
   "metadata": {},
   "source": [
    "<hr>\n",
    "\n",
    "#### Add Conditionals\n",
    "<pre>\n",
    "Add conditionals\n",
    "The while loop that corrects the offset is a good start, but what if offset is negative? You can try to run the sample code on the right where offset is initialized to -6, but your sessions will be disconnected. The while loop will never stop running, because offset will be further decreased on every run. offset != 0 will never become False and the while loop continues forever.\n",
    "\n",
    "Fix things by putting an if-else statement inside the while loop.\n",
    "</pre>\n",
    "\n",
    "<pre>\n",
    "\n",
    "<b>INSTRUCTIONS</b>\n",
    "- Inside the while loop, replace offset = offset - 1 by an if-else statement:\n",
    "- If offset > 0, you should decrease offset by 1.\n",
    "- Else, you should increase offset by 1.\n",
    "- If you've coded things correctly, hitting Submit Answer should work this time.\n",
    "</pre>\n",
    "\n",
    "<pre>\n",
    "<b>Problem:</b>\n",
    "# Initialize offset\n",
    "offset = -6\n",
    "\n",
    "# Code the while loop\n",
    "while offset != 0 :\n",
    "    print(\"correcting...\")\n",
    "    offset = offset - 1\n",
    "    print(offset)\n",
    "</pre>"
   ]
  },
  {
   "cell_type": "code",
   "execution_count": 2,
   "metadata": {},
   "outputs": [
    {
     "name": "stdout",
     "output_type": "stream",
     "text": [
      "correcting...\n",
      "-5\n",
      "correcting...\n",
      "-4\n",
      "correcting...\n",
      "-3\n",
      "correcting...\n",
      "-2\n",
      "correcting...\n",
      "-1\n",
      "correcting...\n",
      "0\n"
     ]
    }
   ],
   "source": [
    "# Initialize offset\n",
    "offset = -6\n",
    "\n",
    "# Code the while loop\n",
    "while offset != 0 :\n",
    "    print(\"correcting...\")\n",
    "    if offset > 0:\n",
    "        offset = offset - 1\n",
    "    else:\n",
    "        offset = offset + 1\n",
    "    print(offset)    "
   ]
  },
  {
   "cell_type": "markdown",
   "metadata": {},
   "source": [
    "<hr>\n",
    "\n",
    "#### Loop over a list\n",
    "<pre>\n",
    "Have another look at the for loop that Filip showed in the video:\n",
    "\n",
    "fam = [1.73, 1.68, 1.71, 1.89]\n",
    "for height in fam : \n",
    "    print(height)\n",
    "\n",
    "As usual, you simply have to indent the code with 4 spaces to tell Python which code should be executed in the for loop.\n",
    "\n",
    "The areas variable, containing the area of different rooms in your house, is already defined.\n",
    "\n",
    "\n",
    "<b>INSTRUCTIONS</b>\n",
    "Write a for loop that iterates over all elements of the areas list and prints out every element separately.\n",
    "\n",
    "<b>Problem:</b>\n",
    "   # areas list\n",
    "   areas = [11.25, 18.0, 20.0, 10.75, 9.50]\n",
    "   \n",
    "   # Code the for loop\n",
    "</pre>"
   ]
  },
  {
   "cell_type": "code",
   "execution_count": 3,
   "metadata": {},
   "outputs": [
    {
     "name": "stdout",
     "output_type": "stream",
     "text": [
      "11.25\n",
      "18.0\n",
      "20.0\n",
      "10.75\n",
      "9.5\n"
     ]
    }
   ],
   "source": [
    "# areas list\n",
    "areas = [11.25, 18.0, 20.0, 10.75, 9.50]\n",
    "\n",
    "# Code the for loop\n",
    "for a in areas:\n",
    "    print(a)"
   ]
  },
  {
   "cell_type": "markdown",
   "metadata": {},
   "source": [
    "<hr>\n",
    "\n",
    "### Indexes and values (1)\n",
    "<pre>\n",
    "Using a for loop to iterate over a list only gives you access to every list element in each run, one after the other. If you also want to access the index information, so where the list element you're iterating over is located, you can use enumerate().\n",
    "\n",
    "As an example, have a look at how the for loop from the video was converted:\n",
    "\n",
    "fam = [1.73, 1.68, 1.71, 1.89]\n",
    "for index, height in enumerate(fam) :\n",
    "    print(\"index \" + str(index) + \": \" + str(height))\n",
    "\n",
    "\n",
    "<b>INSTRUCTIONS</b>\n",
    "Adapt the for loop in the sample code to use enumerate(). On each run, a line of the form \"room x: y\" should be printed, where x is the index of the list element and y is the actual list element, i.e. the area. Make sure to print out this exact string, with the correct spacing.\n",
    "\n",
    "<b>Problem:</b>\n",
    "   # areas list\n",
    "   areas = [11.25, 18.0, 20.0, 10.75, 9.50]\n",
    "   \n",
    "   # Change for loop to use enumerate()\n",
    "   for a in areas :\n",
    "       print(a)\n",
    "</pre>"
   ]
  },
  {
   "cell_type": "code",
   "execution_count": 4,
   "metadata": {},
   "outputs": [
    {
     "name": "stdout",
     "output_type": "stream",
     "text": [
      "room 0: 11.25\n",
      "room 1: 18.0\n",
      "room 2: 20.0\n",
      "room 3: 10.75\n",
      "room 4: 9.5\n"
     ]
    }
   ],
   "source": [
    "# areas list\n",
    "areas = [11.25, 18.0, 20.0, 10.75, 9.50]\n",
    "\n",
    "# Change for loop to use enumerate()\n",
    "for index, a in enumerate(areas):\n",
    "    print(\"room \" + str(index) + \": \" + str(a))"
   ]
  },
  {
   "cell_type": "markdown",
   "metadata": {},
   "source": [
    "<hr>\n",
    "\n",
    "#### Indexes and values (2)\n",
    "<pre>\n",
    "For non-programmer folks, room 0: 11.25 is strange. Wouldn't it be better if the count started at 1?\n",
    "\n",
    "<b>INSTRUCTIONS</b>\n",
    "Adapt the print() function in the for loop on the right so that the first printout becomes \"room 1: 11.25\", the second one \"room 2: 18.0\" and so on.\n",
    "\n",
    "\n",
    "<b>Problem:</b>\n",
    "    # areas list\n",
    "    areas = [11.25, 18.0, 20.0, 10.75, 9.50]\n",
    "    \n",
    "    # Code the for loop\n",
    "    for index, area in enumerate(areas) :\n",
    "        print(\"room \" + str(index) + \": \" + str(area))\n",
    "    \n",
    "</pre>"
   ]
  },
  {
   "cell_type": "code",
   "execution_count": 5,
   "metadata": {},
   "outputs": [
    {
     "name": "stdout",
     "output_type": "stream",
     "text": [
      "room 1: 11.25\n",
      "room 2: 18.0\n",
      "room 3: 20.0\n",
      "room 4: 10.75\n",
      "room 5: 9.5\n"
     ]
    }
   ],
   "source": [
    "# areas list\n",
    "areas = [11.25, 18.0, 20.0, 10.75, 9.50]\n",
    "\n",
    "# Code the for loop\n",
    "for index, area in enumerate(areas) :\n",
    "    print(\"room \" + str(index+1) + \": \" + str(area))"
   ]
  },
  {
   "cell_type": "markdown",
   "metadata": {},
   "source": [
    "<hr>\n",
    "\n",
    "#### Loop over list of lists\n",
    "<pre>\n",
    "Remember the house variable from the Intro to Python course? Have a look at its definition on the right. It's basically a list of lists, where each sublist contains the name and area of a room in your house.\n",
    "\n",
    "It's up to you to build a for loop from scratch this time!\n",
    "\n",
    "\n",
    "<b>INSTRUCTIONS</b>\n",
    "Write a for loop that goes through each sublist of house and prints out the x is y sqm, where x is the name of the room and y is the area of the room.\n",
    "\n",
    "<b>Problem:</b>\n",
    "    # house list of lists\n",
    "    house = [[\"hallway\", 11.25], \n",
    "             [\"kitchen\", 18.0], \n",
    "             [\"living room\", 20.0], \n",
    "             [\"bedroom\", 10.75], \n",
    "             [\"bathroom\", 9.50]]\n",
    "             \n",
    "    # Build a for loop from scratch\n",
    "    \n",
    "</pre>"
   ]
  },
  {
   "cell_type": "code",
   "execution_count": null,
   "metadata": {
    "collapsed": true
   },
   "outputs": [],
   "source": []
  }
 ],
 "metadata": {
  "kernelspec": {
   "display_name": "Python 3",
   "language": "python",
   "name": "python3"
  },
  "language_info": {
   "codemirror_mode": {
    "name": "ipython",
    "version": 3
   },
   "file_extension": ".py",
   "mimetype": "text/x-python",
   "name": "python",
   "nbconvert_exporter": "python",
   "pygments_lexer": "ipython3",
   "version": "3.6.1"
  }
 },
 "nbformat": 4,
 "nbformat_minor": 2
}
